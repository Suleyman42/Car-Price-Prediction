{
 "cells": [
  {
   "cell_type": "code",
   "id": "98009ff1-6c8d-4c06-9371-7d2a92c4d67a",
   "metadata": {
    "ExecuteTime": {
     "end_time": "2025-06-18T15:38:01.137548Z",
     "start_time": "2025-06-18T15:37:50.478512Z"
    }
   },
   "source": [
    "\n",
    "import src.preprocessing as prep\n",
    "import src.visualization as vis\n",
    "import src.io_utils as io_utils\n",
    "df = io_utils.load_dataframe_from_csv('../data/raw/training_data.csv')\n"
   ],
   "outputs": [
    {
     "name": "stdout",
     "output_type": "stream",
     "text": [
      "Datei erfolgreich geladen: ../data/raw/training_data.csv / File successfully loaded: ../data/raw/training_data.csv\n"
     ]
    },
    {
     "name": "stderr",
     "output_type": "stream",
     "text": [
      "C:\\Users\\98sul\\Car-Price-Prediction\\src\\io_utils.py:49: DtypeWarning: Columns (31) have mixed types. Specify dtype option on import or set low_memory=False.\n",
      "  df = pd.read_csv(filepath, sep=sep, encoding=encoding)\n"
     ]
    }
   ],
   "execution_count": 1
  },
  {
   "cell_type": "code",
   "id": "d6a3b5c7-c638-4a13-97ab-9f407c8b7cbe",
   "metadata": {},
   "source": "df.head()",
   "outputs": [],
   "execution_count": null
  },
  {
   "cell_type": "code",
   "id": "b837af89-4069-4c72-9992-10aa97602191",
   "metadata": {},
   "source": [
    "import missingno as msno\n",
    "vis.plot_missing_values(df)"
   ],
   "outputs": [],
   "execution_count": null
  },
  {
   "metadata": {},
   "cell_type": "code",
   "source": [
    "spalten_list = df.columns.tolist()\n",
    "print(spalten_list)"
   ],
   "id": "53602a612bbe208c",
   "outputs": [],
   "execution_count": null
  },
  {
   "metadata": {},
   "cell_type": "code",
   "source": [
    "print(df[\"sellerType\"].unique())\n",
    "print(df[\"Anzahl der Türen\"].isna().sum())\n",
    "missing_seats_before = df[\"Anzahl Sitzplätze\"].isna().sum()\n"
   ],
   "id": "330b57255daf0729",
   "outputs": [],
   "execution_count": null
  },
  {
   "metadata": {},
   "cell_type": "code",
   "source": [
    "# Drop columns with only null values or a single constant value\n",
    "# These columns either contain only nulls or provide no variance (e.g., only one unique value)\n",
    "cols_to_drop = [\"Einparkhilfe\", \"Fahrzeugzustand\", \"Umweltplakette\", \"HU\", \"Fahrzeugnummer\",\n",
    "                \"Zugr.-lgd. Treibstoffart\", \"CO2-Effizienz\", \"Farbe (Hersteller)\",\n",
    "                \"Energieeffizienzklasse\", \"Anzahl der Fahrzeughalter\", \"sellerType\",\"Anzahl der Türen\"]  # only contains 'DEALER' und Anzahl der Türen hat  85911 nan Werte\n",
    "df.drop(cols_to_drop, axis=1, inplace=True)"
   ],
   "id": "5a9bd94f-3d24-4d7d-80bc-5caad3b08309",
   "outputs": [],
   "execution_count": null
  },
  {
   "metadata": {},
   "cell_type": "code",
   "source": "df = prep.preprocess_dataframe(df)",
   "id": "c326ed7e44ef2abe",
   "outputs": [],
   "execution_count": null
  },
  {
   "metadata": {},
   "cell_type": "code",
   "source": "vis.plot_missing_values(df)",
   "id": "476b9939f90f97d1",
   "outputs": [],
   "execution_count": null
  },
  {
   "metadata": {
    "ExecuteTime": {
     "end_time": "2025-06-18T15:38:01.235248Z",
     "start_time": "2025-06-18T15:38:01.170112Z"
    }
   },
   "cell_type": "code",
   "source": "print(df.isnull().sum())",
   "id": "be53136cf9bc43cc",
   "outputs": [
    {
     "name": "stdout",
     "output_type": "stream",
     "text": [
      "adId                             0\n",
      "price                            0\n",
      "Kategorie                        0\n",
      "Erstzulassung                    0\n",
      "colour                         278\n",
      "Kilometerstand                5990\n",
      "Leistung                         0\n",
      "Kraftstoffart                    0\n",
      "make                             0\n",
      "model                            0\n",
      "sellerType                       0\n",
      "Klimatisierung                  47\n",
      "Airbags                        325\n",
      "Anzahl der Fahrzeughalter    98581\n",
      "Verfügbarkeit                35945\n",
      "Herkunft                     15972\n",
      "Energieeffizienzklasse       98581\n",
      "Innenausstattung               198\n",
      "CO2-Emissionen                  40\n",
      "Getriebe                        13\n",
      "Farbe (Hersteller)           98581\n",
      "Verbrauch                       25\n",
      "CO2-Effizienz                98581\n",
      "Schadstoffklasse               329\n",
      "Hubraum                         34\n",
      "Zugr.-lgd. Treibstoffart     98581\n",
      "Anzahl Sitzplätze             7721\n",
      "Fahrzeugnummer               98581\n",
      "Anzahl der Türen             85991\n",
      "HU                           96693\n",
      "Umweltplakette               98404\n",
      "Fahrzeugzustand              98569\n",
      "Einparkhilfe                 98581\n",
      "dtype: int64\n"
     ]
    }
   ],
   "execution_count": 2
  },
  {
   "metadata": {},
   "cell_type": "code",
   "source": [
    "\n",
    "print(df[\"CO2-Emissionen\"].isna().sum())"
   ],
   "id": "ab122d31f935464",
   "outputs": [],
   "execution_count": null
  },
  {
   "metadata": {},
   "cell_type": "code",
   "source": "print((df[\"CO2-Emissionen\"] == \"missing\").sum())",
   "id": "927cc2642519a6d3",
   "outputs": [],
   "execution_count": null
  },
  {
   "metadata": {},
   "cell_type": "code",
   "source": "print(df[\"Airbags\"].unique())",
   "id": "8960a10902366254",
   "outputs": [],
   "execution_count": null
  },
  {
   "metadata": {},
   "cell_type": "code",
   "source": [
    "print(missing_seats_before)\n",
    "print((df[\"Anzahl Sitzplätze\"] == 0).sum())\n",
    "# [2.0 5.0 4.0 7.0 'missing' 6.0 3.0 8.0 9.0 10.0 1.0 17.0 67.0]"
   ],
   "id": "857aae55d3858859",
   "outputs": [],
   "execution_count": null
  },
  {
   "metadata": {},
   "cell_type": "code",
   "source": [
    "spalten_list = df.columns.tolist()\n",
    "print(spalten_list)"
   ],
   "id": "7fbd926a1795d297",
   "outputs": [],
   "execution_count": null
  },
  {
   "metadata": {},
   "cell_type": "code",
   "source": "# CO2-Emissionen, Verbrauch",
   "id": "a5db9445b642872b",
   "outputs": [],
   "execution_count": null
  },
  {
   "metadata": {},
   "cell_type": "code",
   "source": "print(df[\"Verbrauch_avg\"])",
   "id": "12dbea8f070841c4",
   "outputs": [],
   "execution_count": null
  },
  {
   "metadata": {},
   "cell_type": "code",
   "source": "df.info()",
   "id": "4e7bf83371273ebf",
   "outputs": [],
   "execution_count": null
  },
  {
   "metadata": {},
   "cell_type": "code",
   "source": "prep.anova_test(df,\"Verfügbarkeit\",\"price\")",
   "id": "89a6413b29d4b61e",
   "outputs": [],
   "execution_count": null
  },
  {
   "metadata": {},
   "cell_type": "code",
   "source": "prep.cramers_v(df[\"make\"], df[\"Herkunft\"])",
   "id": "c5ef832e26f6824b",
   "outputs": [],
   "execution_count": null
  },
  {
   "metadata": {
    "ExecuteTime": {
     "end_time": "2025-06-16T14:57:59.320640Z",
     "start_time": "2025-06-16T14:57:44.397975Z"
    }
   },
   "cell_type": "code",
   "source": "prep.calculate_mutual_info_regression(df, target_column=\"price\")",
   "id": "2b9e6645b95e66f2",
   "outputs": [
    {
     "name": "stdout",
     "output_type": "stream",
     "text": [
      "\n",
      "📊 Mutual Information (Regression):\n",
      "          Feature  MI Score\n",
      "            model  0.960574\n",
      "        Verbrauch  0.827294\n",
      "         Leistung  0.752062\n",
      "          Hubraum  0.714221\n",
      "   CO2-Emissionen  0.591931\n",
      "    Erstzulassung  0.357606\n",
      "   Kilometerstand  0.352100\n",
      "        Kategorie  0.351074\n",
      "             make  0.318736\n",
      " Schadstoffklasse  0.284415\n",
      "             adId  0.227311\n",
      " Innenausstattung  0.224040\n",
      "         Getriebe  0.184963\n",
      "    Kraftstoffart  0.088759\n",
      "           colour  0.084386\n",
      "         Herkunft  0.082495\n",
      "   Klimatisierung  0.079982\n",
      "    Verfügbarkeit  0.077985\n",
      "Anzahl Sitzplätze  0.067466\n",
      "          Airbags  0.038440\n"
     ]
    },
    {
     "data": {
      "text/plain": [
       "              Feature  MI Score\n",
       "8               model  0.960574\n",
       "16          Verbrauch  0.827294\n",
       "5            Leistung  0.752062\n",
       "18            Hubraum  0.714221\n",
       "14     CO2-Emissionen  0.591931\n",
       "2       Erstzulassung  0.357606\n",
       "4      Kilometerstand  0.352100\n",
       "1           Kategorie  0.351074\n",
       "7                make  0.318736\n",
       "17   Schadstoffklasse  0.284415\n",
       "0                adId  0.227311\n",
       "13   Innenausstattung  0.224040\n",
       "15           Getriebe  0.184963\n",
       "6       Kraftstoffart  0.088759\n",
       "3              colour  0.084386\n",
       "12           Herkunft  0.082495\n",
       "9      Klimatisierung  0.079982\n",
       "11      Verfügbarkeit  0.077985\n",
       "19  Anzahl Sitzplätze  0.067466\n",
       "10            Airbags  0.038440"
      ],
      "text/html": [
       "<div>\n",
       "<style scoped>\n",
       "    .dataframe tbody tr th:only-of-type {\n",
       "        vertical-align: middle;\n",
       "    }\n",
       "\n",
       "    .dataframe tbody tr th {\n",
       "        vertical-align: top;\n",
       "    }\n",
       "\n",
       "    .dataframe thead th {\n",
       "        text-align: right;\n",
       "    }\n",
       "</style>\n",
       "<table border=\"1\" class=\"dataframe\">\n",
       "  <thead>\n",
       "    <tr style=\"text-align: right;\">\n",
       "      <th></th>\n",
       "      <th>Feature</th>\n",
       "      <th>MI Score</th>\n",
       "    </tr>\n",
       "  </thead>\n",
       "  <tbody>\n",
       "    <tr>\n",
       "      <th>8</th>\n",
       "      <td>model</td>\n",
       "      <td>0.960574</td>\n",
       "    </tr>\n",
       "    <tr>\n",
       "      <th>16</th>\n",
       "      <td>Verbrauch</td>\n",
       "      <td>0.827294</td>\n",
       "    </tr>\n",
       "    <tr>\n",
       "      <th>5</th>\n",
       "      <td>Leistung</td>\n",
       "      <td>0.752062</td>\n",
       "    </tr>\n",
       "    <tr>\n",
       "      <th>18</th>\n",
       "      <td>Hubraum</td>\n",
       "      <td>0.714221</td>\n",
       "    </tr>\n",
       "    <tr>\n",
       "      <th>14</th>\n",
       "      <td>CO2-Emissionen</td>\n",
       "      <td>0.591931</td>\n",
       "    </tr>\n",
       "    <tr>\n",
       "      <th>2</th>\n",
       "      <td>Erstzulassung</td>\n",
       "      <td>0.357606</td>\n",
       "    </tr>\n",
       "    <tr>\n",
       "      <th>4</th>\n",
       "      <td>Kilometerstand</td>\n",
       "      <td>0.352100</td>\n",
       "    </tr>\n",
       "    <tr>\n",
       "      <th>1</th>\n",
       "      <td>Kategorie</td>\n",
       "      <td>0.351074</td>\n",
       "    </tr>\n",
       "    <tr>\n",
       "      <th>7</th>\n",
       "      <td>make</td>\n",
       "      <td>0.318736</td>\n",
       "    </tr>\n",
       "    <tr>\n",
       "      <th>17</th>\n",
       "      <td>Schadstoffklasse</td>\n",
       "      <td>0.284415</td>\n",
       "    </tr>\n",
       "    <tr>\n",
       "      <th>0</th>\n",
       "      <td>adId</td>\n",
       "      <td>0.227311</td>\n",
       "    </tr>\n",
       "    <tr>\n",
       "      <th>13</th>\n",
       "      <td>Innenausstattung</td>\n",
       "      <td>0.224040</td>\n",
       "    </tr>\n",
       "    <tr>\n",
       "      <th>15</th>\n",
       "      <td>Getriebe</td>\n",
       "      <td>0.184963</td>\n",
       "    </tr>\n",
       "    <tr>\n",
       "      <th>6</th>\n",
       "      <td>Kraftstoffart</td>\n",
       "      <td>0.088759</td>\n",
       "    </tr>\n",
       "    <tr>\n",
       "      <th>3</th>\n",
       "      <td>colour</td>\n",
       "      <td>0.084386</td>\n",
       "    </tr>\n",
       "    <tr>\n",
       "      <th>12</th>\n",
       "      <td>Herkunft</td>\n",
       "      <td>0.082495</td>\n",
       "    </tr>\n",
       "    <tr>\n",
       "      <th>9</th>\n",
       "      <td>Klimatisierung</td>\n",
       "      <td>0.079982</td>\n",
       "    </tr>\n",
       "    <tr>\n",
       "      <th>11</th>\n",
       "      <td>Verfügbarkeit</td>\n",
       "      <td>0.077985</td>\n",
       "    </tr>\n",
       "    <tr>\n",
       "      <th>19</th>\n",
       "      <td>Anzahl Sitzplätze</td>\n",
       "      <td>0.067466</td>\n",
       "    </tr>\n",
       "    <tr>\n",
       "      <th>10</th>\n",
       "      <td>Airbags</td>\n",
       "      <td>0.038440</td>\n",
       "    </tr>\n",
       "  </tbody>\n",
       "</table>\n",
       "</div>"
      ]
     },
     "execution_count": 2,
     "metadata": {},
     "output_type": "execute_result"
    }
   ],
   "execution_count": 2
  },
  {
   "metadata": {},
   "cell_type": "code",
   "source": "df.head()",
   "id": "579d7f38b68ecdc1",
   "outputs": [],
   "execution_count": null
  },
  {
   "metadata": {},
   "cell_type": "code",
   "source": "io_utils.save_dataframe_to_csv(df,filename='../data/processed/after_data_explorartion.csv', sep=';')",
   "id": "ce31217d9e82bd39",
   "outputs": [],
   "execution_count": null
  },
  {
   "metadata": {
    "ExecuteTime": {
     "end_time": "2025-06-17T10:55:51.980339Z",
     "start_time": "2025-06-17T10:55:35.125933Z"
    }
   },
   "cell_type": "code",
   "source": [
    "import src.io_utils as io_utils\n",
    "import src.visualization as vis\n",
    "import src.preprocessing as prep\n",
    "\n",
    "df = io_utils.load_dataframe_from_csv('../data/processed/after_data_explorartion.csv', sep=';')"
   ],
   "id": "6566df0b918f6fe0",
   "outputs": [
    {
     "name": "stdout",
     "output_type": "stream",
     "text": [
      "Datei erfolgreich geladen: ../data/processed/after_data_explorartion.csv / File successfully loaded: ../data/processed/after_data_explorartion.csv\n"
     ]
    }
   ],
   "execution_count": 1
  },
  {
   "metadata": {},
   "cell_type": "code",
   "source": "df.head()",
   "id": "321ec96ca08cc615",
   "outputs": [],
   "execution_count": null
  },
  {
   "metadata": {},
   "cell_type": "code",
   "source": "vis.plot_price_distribution_log(df)",
   "id": "c89712d6eb074adf",
   "outputs": [],
   "execution_count": null
  },
  {
   "metadata": {},
   "cell_type": "code",
   "source": "vis.plot_price_distribution(df, max_price=200000)",
   "id": "de7098939e2ca224",
   "outputs": [],
   "execution_count": null
  },
  {
   "metadata": {},
   "cell_type": "code",
   "source": [
    "mi_df = prep.calculate_mutual_info_regression(df, target_column=\"price\")\n",
    "vis.plot_mutual_info_scores(mi_df)"
   ],
   "id": "df0b13a182a094e4",
   "outputs": [],
   "execution_count": null
  },
  {
   "metadata": {},
   "cell_type": "code",
   "source": "df.info()",
   "id": "8d0d0c5a59b57797",
   "outputs": [],
   "execution_count": null
  },
  {
   "metadata": {},
   "cell_type": "code",
   "source": "vis.plot_scatter_price_vs_feature(df,\"Leistung\")",
   "id": "9e832ef2fd3f82a",
   "outputs": [],
   "execution_count": null
  },
  {
   "metadata": {},
   "cell_type": "code",
   "source": "vis.plot_scatter_price_vs_feature(df,[\"Erstzulassung\",\"Leistung\"])",
   "id": "1f67dde123b0f390",
   "outputs": [],
   "execution_count": null
  },
  {
   "metadata": {},
   "cell_type": "code",
   "source": "vis.plot_scatter_price_vs_feature(df,[\"Leistung\",\"Erstzulassung\"])",
   "id": "dd7242ea2a82e820",
   "outputs": [],
   "execution_count": null
  },
  {
   "metadata": {},
   "cell_type": "code",
   "source": "vis.plot_boxplot_price_vs_category(df,\"make\")",
   "id": "99490cdc4f10400c",
   "outputs": [],
   "execution_count": null
  },
  {
   "metadata": {},
   "cell_type": "code",
   "source": "vis.plot_correlation_heatmap(df)",
   "id": "44d923163d0f407a",
   "outputs": [],
   "execution_count": null
  },
  {
   "metadata": {
    "ExecuteTime": {
     "end_time": "2025-06-17T10:55:52.110894Z",
     "start_time": "2025-06-17T10:55:51.991413Z"
    }
   },
   "cell_type": "code",
   "source": "df.info()",
   "id": "1971eeb1ea25ec44",
   "outputs": [
    {
     "name": "stdout",
     "output_type": "stream",
     "text": [
      "<class 'pandas.core.frame.DataFrame'>\n",
      "RangeIndex: 98581 entries, 0 to 98580\n",
      "Data columns (total 21 columns):\n",
      " #   Column             Non-Null Count  Dtype  \n",
      "---  ------             --------------  -----  \n",
      " 0   adId               98581 non-null  int64  \n",
      " 1   price              98581 non-null  float64\n",
      " 2   Kategorie          98581 non-null  object \n",
      " 3   Erstzulassung      98581 non-null  int64  \n",
      " 4   colour             98581 non-null  object \n",
      " 5   Kilometerstand     98581 non-null  float64\n",
      " 6   Leistung           98581 non-null  int64  \n",
      " 7   Kraftstoffart      98581 non-null  object \n",
      " 8   make               98581 non-null  object \n",
      " 9   model              98581 non-null  object \n",
      " 10  Klimatisierung     98581 non-null  object \n",
      " 11  Airbags            98581 non-null  object \n",
      " 12  Verfügbarkeit      98581 non-null  object \n",
      " 13  Herkunft           98581 non-null  object \n",
      " 14  Innenausstattung   98581 non-null  object \n",
      " 15  CO2-Emissionen     98581 non-null  object \n",
      " 16  Getriebe           98581 non-null  object \n",
      " 17  Verbrauch          98581 non-null  object \n",
      " 18  Schadstoffklasse   98581 non-null  object \n",
      " 19  Hubraum            98581 non-null  object \n",
      " 20  Anzahl Sitzplätze  98581 non-null  float64\n",
      "dtypes: float64(3), int64(3), object(15)\n",
      "memory usage: 15.8+ MB\n"
     ]
    }
   ],
   "execution_count": 2
  },
  {
   "metadata": {},
   "cell_type": "code",
   "source": "vis.plot_cramers_v_heatmap(df)",
   "id": "293091d966281e56",
   "outputs": [],
   "execution_count": null
  },
  {
   "metadata": {},
   "cell_type": "code",
   "source": "vis.plot_avg_price_per_year(df)",
   "id": "c51513811d54658f",
   "outputs": [],
   "execution_count": null
  },
  {
   "metadata": {},
   "cell_type": "code",
   "source": "",
   "id": "f26db490b46cd35b",
   "outputs": [],
   "execution_count": null
  },
  {
   "metadata": {},
   "cell_type": "code",
   "source": "",
   "id": "3048f2b79e40d960",
   "outputs": [],
   "execution_count": null
  },
  {
   "metadata": {},
   "cell_type": "code",
   "source": "",
   "id": "de5a15f151564f19",
   "outputs": [],
   "execution_count": null
  }
 ],
 "metadata": {
  "kernelspec": {
   "display_name": "Python 3 (ipykernel)",
   "language": "python",
   "name": "python3"
  },
  "language_info": {
   "codemirror_mode": {
    "name": "ipython",
    "version": 3
   },
   "file_extension": ".py",
   "mimetype": "text/x-python",
   "name": "python",
   "nbconvert_exporter": "python",
   "pygments_lexer": "ipython3",
   "version": "3.12.4"
  }
 },
 "nbformat": 4,
 "nbformat_minor": 5
}
