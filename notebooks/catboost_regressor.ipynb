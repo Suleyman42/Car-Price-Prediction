{
 "cells": [
  {
   "cell_type": "code",
   "id": "initial_id",
   "metadata": {
    "collapsed": true,
    "ExecuteTime": {
     "end_time": "2025-06-18T18:31:32.798892Z",
     "start_time": "2025-06-18T18:31:31.199142Z"
    }
   },
   "source": [
    "from src.model import CatBoostPriceRegressor\n",
    "import src.io_utils\n",
    "import pandas as pd\n",
    "from src import io_utils\n",
    "\n",
    "df = io_utils.load_dataframe_from_csv(\"../data/processed/after_data_explorartion.csv\",\";\")\n",
    "\n"
   ],
   "outputs": [
    {
     "name": "stdout",
     "output_type": "stream",
     "text": [
      "Datei erfolgreich geladen: ../data/processed/after_data_explorartion.csv / File successfully loaded: ../data/processed/after_data_explorartion.csv\n"
     ]
    }
   ],
   "execution_count": 1
  },
  {
   "metadata": {},
   "cell_type": "code",
   "source": [
    "# 1️⃣ Features & Ziel definieren\n",
    "X = df[['model', \"Erstzulassung\", \"Kilometerstand\", 'Verbrauch', 'Leistung', 'Hubraum', 'CO2-Emissionen']]\n",
    "y = df['price']\n",
    "\n",
    "# 2️⃣ Kategorische Spalten ermitteln\n",
    "categorical_columns = X.select_dtypes(include=['object']).columns.tolist()\n",
    "\n",
    "# 3️⃣ Instanz der Klasse erstellen\n",
    "model = CatBoostPriceRegressor()\n",
    "\n",
    "# 4️⃣ Kategorische Spalten setzen\n",
    "model.set_categorical_columns(categorical_columns)\n",
    "\n",
    "# 5️⃣ Train-Test-Split\n",
    "model.train_test_split(X, y, test_size=0.15)\n",
    "\n",
    "# 6️⃣ Modell trainieren\n",
    "model.fit()\n",
    "\n",
    "# 7️⃣ Modell bewerten\n",
    "model.evaluate(model.X_train, model.y_train, model.X_test, model.y_test)\n",
    "\n",
    "model.plot_predictions()\n"
   ],
   "id": "8b2b99adca44518c",
   "outputs": [],
   "execution_count": null
  },
  {
   "metadata": {},
   "cell_type": "code",
   "source": "",
   "id": "806c3b1f987b4031",
   "outputs": [],
   "execution_count": null
  }
 ],
 "metadata": {
  "kernelspec": {
   "display_name": "Python 3",
   "language": "python",
   "name": "python3"
  },
  "language_info": {
   "codemirror_mode": {
    "name": "ipython",
    "version": 2
   },
   "file_extension": ".py",
   "mimetype": "text/x-python",
   "name": "python",
   "nbconvert_exporter": "python",
   "pygments_lexer": "ipython2",
   "version": "2.7.6"
  }
 },
 "nbformat": 4,
 "nbformat_minor": 5
}
